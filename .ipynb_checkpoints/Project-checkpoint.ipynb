{
 "cells": [
  {
   "cell_type": "markdown",
   "id": "641b18d1-9b8e-411b-a9ad-df4ed2c72055",
   "metadata": {},
   "source": [
    "# Part 1 \n",
    "## Pre-processing the data file and get the data"
   ]
  },
  {
   "cell_type": "code",
   "execution_count": 1,
   "id": "a7459ba8-9aca-4fc8-bf64-6dd07e2d310e",
   "metadata": {},
   "outputs": [],
   "source": [
    "import pandas as pd\n",
    "import cassandra\n",
    "import os \n",
    "import time \n",
    "import warnings\n",
    "warnings.filterwarnings('ignore')"
   ]
  },
  {
   "cell_type": "code",
   "execution_count": 2,
   "id": "e33e1079-a1f3-462c-9f9d-fd58d85cf86e",
   "metadata": {},
   "outputs": [],
   "source": [
    "def get_csv_file_paths(folder_path):\n",
    "    \"\"\"\n",
    "    Recursively retrieves the absolute paths of all csv files in the specified folder and its subfolders.\n",
    "    Args:\n",
    "        folder_path (str): Path to the root folder containing JSON files.\n",
    "    Returns:\n",
    "        list: A list of absolute file paths.\n",
    "    \"\"\"\n",
    "    csv_file_paths = []\n",
    "    for root, _, files in os.walk(folder_path):\n",
    "        for filename in files:\n",
    "            if filename.endswith(\".csv\"):\n",
    "                csv_file_paths.append(os.path.join(root, filename))\n",
    "    return csv_file_paths"
   ]
  },
  {
   "cell_type": "code",
   "execution_count": 3,
   "id": "a794fdf0-7fd8-48ba-9760-6e937bc61f09",
   "metadata": {},
   "outputs": [],
   "source": [
    "# get all csv data pathes\n",
    "csv_data = get_csv_file_paths('event_data/')"
   ]
  },
  {
   "cell_type": "code",
   "execution_count": 4,
   "id": "28438dc1-2bfc-4b3e-848e-320a0828e9b1",
   "metadata": {
    "scrolled": true
   },
   "outputs": [],
   "source": [
    "# get all coloumns we need \n",
    "columns = ['artist','firstName','gender','itemInSession','lastName','length','level','location','sessionId','song','userId']\n",
    "event_data = pd.DataFrame(columns=columns) # create an empty data frame with same columns names\n",
    "for i in range(len(csv_data)): # loop for each csv file\n",
    "    df = pd.read_csv(csv_data[i],usecols=columns)\n",
    "    df.dropna(subset = 'artist',inplace=True) # drop the row that has artist value Null\n",
    "    event_data = pd.concat([event_data, df],ignore_index = True)\n",
    "event_data.to_csv('event_datafile_new.csv',index=False)"
   ]
  },
  {
   "cell_type": "code",
   "execution_count": 5,
   "id": "16012c1b-6b12-4145-bb0a-999138f21b44",
   "metadata": {
    "scrolled": true
   },
   "outputs": [
    {
     "data": {
      "text/plain": [
       "6831"
      ]
     },
     "execution_count": 5,
     "metadata": {},
     "output_type": "execute_result"
    }
   ],
   "source": [
    "len(event_data)"
   ]
  },
  {
   "cell_type": "markdown",
   "id": "3e5fa5d5-2ea1-4464-a1a4-89d4d38e2622",
   "metadata": {},
   "source": [
    "#### Now we are ready to work with the CSV file titled <font color=red>event_datafile_new.csv</font>\n",
    "##### The **``event_datafile_new.csv``** contains the following columns: \n",
    "- artist \n",
    "- firstName of user\n",
    "- gender of user\n",
    "- item number in session\n",
    "- last name of user\n",
    "- length of the song\n",
    "- level (paid or free song)\n",
    "- location of the user\n",
    "- sessionId\n",
    "- song title\n",
    "- userId\n",
    "\n",
    "The image below is a screenshot of what the denormalized data should appear like in the <font color=red>**event_datafile_new.csv**</font> after the code above is run:<br>\n",
    "\n",
    "<img src=\"images/1.jpg\">"
   ]
  },
  {
   "cell_type": "markdown",
   "id": "e080465a-330d-447f-a570-22b860f94823",
   "metadata": {},
   "source": [
    "# Part 2 \n",
    "Now it's time to create our cassandra cluster and create sparkify keyspace\n",
    "After we are interesting in to answer 3 questions **Remmber that we model the database table based on the queries**\n",
    "- `Q1` Give the artist, song title and song's length in the music app history that was heard during  sessionId = 338, and itemInSession  = 4\n",
    "- `Q2` Give artist name, song (sorted by itemInSession) and user (first and last name) for userid = 10, sessionid = 182\n",
    "- `Q3` Give every user name (first and last) in my music app history who listened to the song 'All Hands Against His Own'"
   ]
  },
  {
   "cell_type": "markdown",
   "id": "5c93076e-4925-4cb3-b48d-2cf8c190490d",
   "metadata": {},
   "source": [
    "#### Let's create the cluster and keyspace"
   ]
  },
  {
   "cell_type": "code",
   "execution_count": 4,
   "id": "2375d789-fc08-4343-8938-b276e716216a",
   "metadata": {},
   "outputs": [],
   "source": [
    "from cassandra.cluster import Cluster\n",
    "try:\n",
    "    cluster = Cluster(['127.0.0.1'])\n",
    "    session = cluster.connect()\n",
    "except Exception as e :\n",
    "    print(e)"
   ]
  },
  {
   "cell_type": "markdown",
   "id": "369b9fe8-f5e0-4614-b391-1aa29c3b13a4",
   "metadata": {},
   "source": [
    "#### Create the keyspace Sparkify"
   ]
  },
  {
   "cell_type": "code",
   "execution_count": 5,
   "id": "920bde0d-dcfc-45c6-8a28-14b27edaff33",
   "metadata": {},
   "outputs": [],
   "source": [
    "try:\n",
    "    session.execute(\"\"\"\n",
    "                       CREATE KEYSPACE IF NOT EXISTS sparkify\n",
    "                       WITH REPLICATION = \n",
    "                       {'class': 'SimpleStrategy' , 'replication_factor' : 1}\n",
    "    \n",
    "                    \"\"\"\n",
    "                   )\n",
    "except Exception as e :\n",
    "    print(e)"
   ]
  },
  {
   "cell_type": "code",
   "execution_count": 6,
   "id": "cc4bc099-d056-471a-9b36-7cce77a8c601",
   "metadata": {},
   "outputs": [],
   "source": [
    "# connect to our keyspace\n",
    "try:\n",
    "    session.set_keyspace('sparkify')\n",
    "except Exception as e :\n",
    "    print(e)"
   ]
  },
  {
   "cell_type": "markdown",
   "id": "3830fe76-d12a-4705-9c70-d44c14c48a43",
   "metadata": {},
   "source": [
    "## Create the tables based on query"
   ]
  },
  {
   "cell_type": "markdown",
   "id": "91622566-bfeb-4bf1-9a08-1c7de4589781",
   "metadata": {},
   "source": [
    "### Q1\n",
    "`Q1` Give the artist, song title and song's length in the music app history that was heard during  sessionId = 338, and itemInSession  = 4\n",
    "\n",
    "- **SELECT** artist, song, length **FROM** session_item **WHERE** sessionId = `338` and itemInSession = `4` <br>\n",
    "The primary key will be (sessionId , itemInSession) where\n",
    "**sessionId** is the `partition key` and the **itemInSession** is the `clustering column`\n"
   ]
  },
  {
   "cell_type": "code",
   "execution_count": 7,
   "id": "ab5a79ed-6b7e-4873-95f6-5ed1c47313a8",
   "metadata": {},
   "outputs": [
    {
     "name": "stdout",
     "output_type": "stream",
     "text": [
      "session_item table created\n"
     ]
    }
   ],
   "source": [
    "query = \"CREATE TABLE IF NOT EXISTS session_item\"\n",
    "query = query + \"(sessionId int , itemInsession int ,artist text, song text, length float, PRIMARY KEY(sessionId, itemInsession))\"\n",
    "try:\n",
    "    session.execute(query)\n",
    "    print('session_item table created')\n",
    "except Exception as e :\n",
    "    print(e)"
   ]
  },
  {
   "cell_type": "code",
   "execution_count": 8,
   "id": "8e7b072f-3fce-43b7-9e34-8a3cd46b7158",
   "metadata": {},
   "outputs": [
    {
     "data": {
      "text/html": [
       "<div>\n",
       "<style scoped>\n",
       "    .dataframe tbody tr th:only-of-type {\n",
       "        vertical-align: middle;\n",
       "    }\n",
       "\n",
       "    .dataframe tbody tr th {\n",
       "        vertical-align: top;\n",
       "    }\n",
       "\n",
       "    .dataframe thead th {\n",
       "        text-align: right;\n",
       "    }\n",
       "</style>\n",
       "<table border=\"1\" class=\"dataframe\">\n",
       "  <thead>\n",
       "    <tr style=\"text-align: right;\">\n",
       "      <th></th>\n",
       "      <th>artist</th>\n",
       "      <th>firstName</th>\n",
       "      <th>gender</th>\n",
       "      <th>itemInSession</th>\n",
       "      <th>lastName</th>\n",
       "      <th>length</th>\n",
       "      <th>level</th>\n",
       "      <th>location</th>\n",
       "      <th>sessionId</th>\n",
       "      <th>song</th>\n",
       "      <th>userId</th>\n",
       "    </tr>\n",
       "  </thead>\n",
       "  <tbody>\n",
       "    <tr>\n",
       "      <th>0</th>\n",
       "      <td>Des'ree</td>\n",
       "      <td>Kaylee</td>\n",
       "      <td>F</td>\n",
       "      <td>1</td>\n",
       "      <td>Summers</td>\n",
       "      <td>246.30812</td>\n",
       "      <td>free</td>\n",
       "      <td>Phoenix-Mesa-Scottsdale, AZ</td>\n",
       "      <td>139</td>\n",
       "      <td>You Gotta Be</td>\n",
       "      <td>8.0</td>\n",
       "    </tr>\n",
       "    <tr>\n",
       "      <th>1</th>\n",
       "      <td>Mr Oizo</td>\n",
       "      <td>Kaylee</td>\n",
       "      <td>F</td>\n",
       "      <td>3</td>\n",
       "      <td>Summers</td>\n",
       "      <td>144.03873</td>\n",
       "      <td>free</td>\n",
       "      <td>Phoenix-Mesa-Scottsdale, AZ</td>\n",
       "      <td>139</td>\n",
       "      <td>Flat 55</td>\n",
       "      <td>8.0</td>\n",
       "    </tr>\n",
       "    <tr>\n",
       "      <th>2</th>\n",
       "      <td>Tamba Trio</td>\n",
       "      <td>Kaylee</td>\n",
       "      <td>F</td>\n",
       "      <td>4</td>\n",
       "      <td>Summers</td>\n",
       "      <td>177.18812</td>\n",
       "      <td>free</td>\n",
       "      <td>Phoenix-Mesa-Scottsdale, AZ</td>\n",
       "      <td>139</td>\n",
       "      <td>Quem Quiser Encontrar O Amor</td>\n",
       "      <td>8.0</td>\n",
       "    </tr>\n",
       "    <tr>\n",
       "      <th>3</th>\n",
       "      <td>The Mars Volta</td>\n",
       "      <td>Kaylee</td>\n",
       "      <td>F</td>\n",
       "      <td>5</td>\n",
       "      <td>Summers</td>\n",
       "      <td>380.42077</td>\n",
       "      <td>free</td>\n",
       "      <td>Phoenix-Mesa-Scottsdale, AZ</td>\n",
       "      <td>139</td>\n",
       "      <td>Eriatarka</td>\n",
       "      <td>8.0</td>\n",
       "    </tr>\n",
       "    <tr>\n",
       "      <th>4</th>\n",
       "      <td>Infected Mushroom</td>\n",
       "      <td>Kaylee</td>\n",
       "      <td>F</td>\n",
       "      <td>6</td>\n",
       "      <td>Summers</td>\n",
       "      <td>440.26730</td>\n",
       "      <td>free</td>\n",
       "      <td>Phoenix-Mesa-Scottsdale, AZ</td>\n",
       "      <td>139</td>\n",
       "      <td>Becoming Insane</td>\n",
       "      <td>8.0</td>\n",
       "    </tr>\n",
       "  </tbody>\n",
       "</table>\n",
       "</div>"
      ],
      "text/plain": [
       "              artist firstName gender  itemInSession lastName     length  \\\n",
       "0            Des'ree    Kaylee      F              1  Summers  246.30812   \n",
       "1            Mr Oizo    Kaylee      F              3  Summers  144.03873   \n",
       "2         Tamba Trio    Kaylee      F              4  Summers  177.18812   \n",
       "3     The Mars Volta    Kaylee      F              5  Summers  380.42077   \n",
       "4  Infected Mushroom    Kaylee      F              6  Summers  440.26730   \n",
       "\n",
       "  level                     location  sessionId                          song  \\\n",
       "0  free  Phoenix-Mesa-Scottsdale, AZ        139                  You Gotta Be   \n",
       "1  free  Phoenix-Mesa-Scottsdale, AZ        139                       Flat 55   \n",
       "2  free  Phoenix-Mesa-Scottsdale, AZ        139  Quem Quiser Encontrar O Amor   \n",
       "3  free  Phoenix-Mesa-Scottsdale, AZ        139                     Eriatarka   \n",
       "4  free  Phoenix-Mesa-Scottsdale, AZ        139               Becoming Insane   \n",
       "\n",
       "   userId  \n",
       "0     8.0  \n",
       "1     8.0  \n",
       "2     8.0  \n",
       "3     8.0  \n",
       "4     8.0  "
      ]
     },
     "execution_count": 8,
     "metadata": {},
     "output_type": "execute_result"
    }
   ],
   "source": [
    "# read the data \n",
    "data = pd.read_csv('event_datafile_new.csv')\n",
    "data.head()"
   ]
  },
  {
   "cell_type": "markdown",
   "id": "01c85cfe-5e21-4b33-bd06-005693eb76cf",
   "metadata": {},
   "source": [
    "#### Insert the data `[sessionId, itemInSession, artist, song, length ]` into session_item table"
   ]
  },
  {
   "cell_type": "code",
   "execution_count": 9,
   "id": "78f17d89-583f-4f21-81a2-cbc48f5c0452",
   "metadata": {},
   "outputs": [
    {
     "name": "stdout",
     "output_type": "stream",
     "text": [
      "--- 199.74666929244995 seconds ---\n"
     ]
    }
   ],
   "source": [
    "# filter the data \n",
    "session_item = data[['sessionId', 'itemInSession', 'artist', 'song', 'length']]\n",
    "query = \"INSERT into session_item (sessionId, itemInsession, artist, song, length) VALUES(%s,%s,%s,%s,%s)\"\n",
    "start_time = time.time()\n",
    "for row in session_item.iterrows():\n",
    "    session.execute(query , (row[1][0],row[1][1],row[1][2],row[1][3],row[1][4]))\n",
    "print(\"--- %s seconds ---\" % (time.time() - start_time))   "
   ]
  },
  {
   "cell_type": "markdown",
   "id": "25f209ee-e7fc-4925-be27-9546e58939cf",
   "metadata": {},
   "source": [
    "#### Let's check if the data inserted and check our query \n",
    "- `Q1` **SELECT** artist, song, length **FROM** session_item **WHERE** sessionId = `338` and itemInSession = `4` <br>"
   ]
  },
  {
   "cell_type": "code",
   "execution_count": 10,
   "id": "f015a1d3-715c-44f3-a3d4-48399b345b1e",
   "metadata": {},
   "outputs": [
    {
     "name": "stdout",
     "output_type": "stream",
     "text": [
      "Row(artist='Faithless', song='Music Matters (Mark Knight Dub)', length=495.30731201171875)\n"
     ]
    }
   ],
   "source": [
    "Q1 = 'SELECT artist, song, length FROM session_item WHERE sessionId = 338 and itemInSession = 4'\n",
    "try:\n",
    "    rows = session.execute(Q1)\n",
    "except Exception as e :\n",
    "    print(e)\n",
    "for row in rows:\n",
    "    print(row)"
   ]
  },
  {
   "cell_type": "markdown",
   "id": "44097901-c948-4756-88d2-267a29c2a86e",
   "metadata": {},
   "source": [
    "### Q2\n",
    "`Q2` Give artist name, song (sorted by itemInSession) and user (first and last name) for userid = 10, sessionid = 182\n",
    "\n",
    "- **SELECT** artist, song, firstName, lastName **FROM** user_session **WHERE** userid = `10` and sessionid = `182` <br>\n",
    "The primary key will be ((userid, sessionid),itemInSession)  where\n",
    "**(userid, sessionid)** is the `partition key` and the **itemInSession** is the `clustering column`\n",
    "- we are using the clause - **WITH CLUSTERING ORDER BY (itemInSession ASC)**, to sort our data based on itemInSession"
   ]
  },
  {
   "cell_type": "code",
   "execution_count": 11,
   "id": "e7e663f9-f14d-4a06-86a9-f339a24e4737",
   "metadata": {},
   "outputs": [
    {
     "name": "stdout",
     "output_type": "stream",
     "text": [
      "user_session table created\n"
     ]
    }
   ],
   "source": [
    "# Create user_session table\n",
    "query = \"CREATE TABLE IF NOT EXISTS user_session\"\n",
    "query = query + \"(userid int ,sessionid int, itemInsession int ,artist text, song text, firstName text, lastName text\\\n",
    "                    , PRIMARY KEY((userid, sessionid) , itemInsession)) WITH CLUSTERING ORDER BY (itemInsession ASC)\"\n",
    "try:\n",
    "    session.execute(query)\n",
    "    print('user_session table created')\n",
    "except Exception as e :\n",
    "    print(e)"
   ]
  },
  {
   "cell_type": "markdown",
   "id": "59a408ae-044f-44ec-9b0e-8b85973afb55",
   "metadata": {},
   "source": [
    "#### Insert the data `[userid, sessionid, itemInsession, artist, song, firstName, lastName ]` into user_session table"
   ]
  },
  {
   "cell_type": "code",
   "execution_count": 12,
   "id": "d12dd731-7dfc-4ac0-8fc5-4bcd2b089c8c",
   "metadata": {},
   "outputs": [
    {
     "name": "stdout",
     "output_type": "stream",
     "text": [
      "--- 206.63524079322815 seconds ---\n"
     ]
    }
   ],
   "source": [
    "# filter the data \n",
    "user_session = data[['userId', 'sessionId', 'itemInSession', 'artist', 'song', 'firstName', 'lastName']]\n",
    "query = \"INSERT into user_session (userid, sessionid, itemInsession, artist, song, firstName, lastName) VALUES(%s,%s,%s,%s,%s,%s,%s)\"\n",
    "start_time = time.time()\n",
    "for row in user_session.iterrows():\n",
    "    session.execute(query , (int(row[1][0]),row[1][1],row[1][2],row[1][3],row[1][4],row[1][5],row[1][6]))\n",
    "print(\"--- %s seconds ---\" % (time.time() - start_time))   "
   ]
  },
  {
   "cell_type": "code",
   "execution_count": 13,
   "id": "2a871f62-260b-4976-a3bb-39041e3228d0",
   "metadata": {},
   "outputs": [
    {
     "name": "stdout",
     "output_type": "stream",
     "text": [
      "Row(artist='Down To The Bone', song=\"Keep On Keepin' On\", firstname='Sylvie', lastname='Cruz')\n",
      "Row(artist='Three Drives', song='Greece 2000', firstname='Sylvie', lastname='Cruz')\n",
      "Row(artist='Sebastien Tellier', song='Kilometer', firstname='Sylvie', lastname='Cruz')\n",
      "Row(artist='Lonnie Gordon', song='Catch You Baby (Steve Pitron & Max Sanna Radio Edit)', firstname='Sylvie', lastname='Cruz')\n"
     ]
    }
   ],
   "source": [
    "Q2 = 'SELECT artist,song, firstName, lastName FROM user_session WHERE userid = 10 and sessionid = 182'\n",
    "try:\n",
    "    rows = session.execute(Q2)\n",
    "except Exception as e :\n",
    "    print(e)\n",
    "for row in rows:\n",
    "    print(row)"
   ]
  },
  {
   "cell_type": "markdown",
   "id": "b1bdf5af-966d-407b-b3b6-3566f913a124",
   "metadata": {},
   "source": [
    "### Q3\n",
    "`Q3` Give every user name (first and last) in my music app history who listened to the song 'All Hands Against His Own'\n",
    "\n",
    "- **SELECT** firstName, lastName **FROM** user_song **WHERE** song = `'All Hands Against His Own'`<br>\n",
    "The primary key will be (song, userId)  where\n",
    "**song** is the `partition key` and the **userId** is the `clustering column`"
   ]
  },
  {
   "cell_type": "code",
   "execution_count": 14,
   "id": "4dbe60eb-57bd-487a-b728-f7163f5d4169",
   "metadata": {},
   "outputs": [
    {
     "name": "stdout",
     "output_type": "stream",
     "text": [
      "user_song table created\n"
     ]
    }
   ],
   "source": [
    "# Create user_song table\n",
    "query = \"CREATE TABLE IF NOT EXISTS user_song\"\n",
    "query = query + \"(song text ,userid int, firstName text, lastName text, PRIMARY KEY(song, userid))\"\n",
    "try:\n",
    "    session.execute(query)\n",
    "    print('user_song table created')\n",
    "except Exception as e :\n",
    "    print(e)"
   ]
  },
  {
   "cell_type": "markdown",
   "id": "9372e115-f364-40d6-8219-70f6b1e51613",
   "metadata": {},
   "source": [
    "#### Insert the data `[song, userid, firstName, lastName ]` into user_song table"
   ]
  },
  {
   "cell_type": "code",
   "execution_count": 15,
   "id": "ceb114ef-50ca-4728-b447-eb566779cd46",
   "metadata": {},
   "outputs": [
    {
     "name": "stdout",
     "output_type": "stream",
     "text": [
      "--- 207.61009764671326 seconds ---\n"
     ]
    }
   ],
   "source": [
    "# filter the data \n",
    "user_song = data[['song', 'userId', 'firstName', 'lastName']]\n",
    "query = \"INSERT into user_song (song, userid, firstName, lastName) VALUES(%s,%s,%s,%s)\"\n",
    "start_time = time.time()\n",
    "for row in user_song.iterrows():\n",
    "    session.execute(query , (row[1][0],int(row[1][1]),row[1][2],row[1][3]))\n",
    "print(\"--- %s seconds ---\" % (time.time() - start_time))    "
   ]
  },
  {
   "cell_type": "code",
   "execution_count": 16,
   "id": "07ec48d5-3907-4950-9e29-9b0eb4b6383b",
   "metadata": {},
   "outputs": [
    {
     "name": "stdout",
     "output_type": "stream",
     "text": [
      "Row(song='All Hands Against His Own', firstname='Jacqueline', lastname='Lynch')\n",
      "Row(song='All Hands Against His Own', firstname='Tegan', lastname='Levine')\n",
      "Row(song='All Hands Against His Own', firstname='Sara', lastname='Johnson')\n"
     ]
    }
   ],
   "source": [
    "Q3 = \"SELECT song, firstName, lastName FROM user_song WHERE song = 'All Hands Against His Own'\"\n",
    "try:\n",
    "    rows = session.execute(Q3)\n",
    "except Exception as e :\n",
    "    print(e)\n",
    "for row in rows:\n",
    "    print(row)"
   ]
  },
  {
   "cell_type": "markdown",
   "id": "3c60d3d5-41fa-4759-9f0c-fadc26facac4",
   "metadata": {},
   "source": [
    "## Drop the tables before closing out the sessions"
   ]
  },
  {
   "cell_type": "code",
   "execution_count": 17,
   "id": "03eff6ac-230e-4d6f-81fb-bc68c8b086d5",
   "metadata": {},
   "outputs": [
    {
     "data": {
      "text/plain": [
       "<cassandra.cluster.ResultSet at 0x199f16af510>"
      ]
     },
     "execution_count": 17,
     "metadata": {},
     "output_type": "execute_result"
    }
   ],
   "source": [
    "session.execute(\"DROP TABLE IF EXISTS sparkify.session_item\")\n",
    "session.execute(\"DROP TABLE IF EXISTS sparkify.user_session\")\n",
    "session.execute(\"DROP TABLE IF EXISTS sparkify.user_song\")"
   ]
  },
  {
   "cell_type": "markdown",
   "id": "81541e1f-2e21-418c-b9c5-2cde3b0838be",
   "metadata": {},
   "source": [
    "## Close the session and cluster connection"
   ]
  },
  {
   "cell_type": "code",
   "execution_count": 18,
   "id": "1812f7d9-fc10-45d2-a763-b6569779ecaa",
   "metadata": {},
   "outputs": [],
   "source": [
    "session.shutdown()\n",
    "cluster.shutdown()"
   ]
  }
 ],
 "metadata": {
  "kernelspec": {
   "display_name": "Python 3 (ipykernel)",
   "language": "python",
   "name": "python3"
  },
  "language_info": {
   "codemirror_mode": {
    "name": "ipython",
    "version": 3
   },
   "file_extension": ".py",
   "mimetype": "text/x-python",
   "name": "python",
   "nbconvert_exporter": "python",
   "pygments_lexer": "ipython3",
   "version": "3.11.7"
  }
 },
 "nbformat": 4,
 "nbformat_minor": 5
}
