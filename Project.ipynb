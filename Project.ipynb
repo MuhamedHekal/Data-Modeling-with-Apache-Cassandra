{
 "cells": [
  {
   "cell_type": "markdown",
   "id": "641b18d1-9b8e-411b-a9ad-df4ed2c72055",
   "metadata": {},
   "source": [
    "# Part 1 \n",
    "## Pre-processing the data file and get the data"
   ]
  },
  {
   "cell_type": "code",
   "execution_count": 1,
   "id": "a7459ba8-9aca-4fc8-bf64-6dd07e2d310e",
   "metadata": {},
   "outputs": [],
   "source": [
    "import pandas as pd\n",
    "import cassandra\n",
    "import os \n",
    "import warnings\n",
    "warnings.filterwarnings('ignore')"
   ]
  },
  {
   "cell_type": "code",
   "execution_count": 2,
   "id": "e33e1079-a1f3-462c-9f9d-fd58d85cf86e",
   "metadata": {},
   "outputs": [],
   "source": [
    "def get_csv_file_paths(folder_path):\n",
    "    \"\"\"\n",
    "    Recursively retrieves the absolute paths of all csv files in the specified folder and its subfolders.\n",
    "    Args:\n",
    "        folder_path (str): Path to the root folder containing JSON files.\n",
    "    Returns:\n",
    "        list: A list of absolute file paths.\n",
    "    \"\"\"\n",
    "    csv_file_paths = []\n",
    "    for root, _, files in os.walk(folder_path):\n",
    "        for filename in files:\n",
    "            if filename.endswith(\".csv\"):\n",
    "                csv_file_paths.append(os.path.join(root, filename))\n",
    "    return csv_file_paths"
   ]
  },
  {
   "cell_type": "code",
   "execution_count": 3,
   "id": "a794fdf0-7fd8-48ba-9760-6e937bc61f09",
   "metadata": {},
   "outputs": [],
   "source": [
    "# get all csv data pathes\n",
    "csv_data = get_csv_file_paths('event_data/')"
   ]
  },
  {
   "cell_type": "code",
   "execution_count": 4,
   "id": "28438dc1-2bfc-4b3e-848e-320a0828e9b1",
   "metadata": {
    "scrolled": true
   },
   "outputs": [],
   "source": [
    "# get all coloumns we need \n",
    "columns = ['artist','firstName','gender','itemInSession','lastName','length','level','location','sessionId','song','userId']\n",
    "event_data = pd.DataFrame(columns=columns) # create an empty data frame with same columns names\n",
    "for i in range(len(csv_data)): # loop for each csv file\n",
    "    df = pd.read_csv(csv_data[i],usecols=columns)\n",
    "    df.dropna(subset = 'artist',inplace=True) # drop the row that has artist value Null\n",
    "    event_data = pd.concat([event_data, df],ignore_index = True)\n",
    "event_data.to_csv('event_datafile_new.csv',index=False)"
   ]
  },
  {
   "cell_type": "code",
   "execution_count": 5,
   "id": "16012c1b-6b12-4145-bb0a-999138f21b44",
   "metadata": {
    "scrolled": true
   },
   "outputs": [
    {
     "data": {
      "text/plain": [
       "6831"
      ]
     },
     "execution_count": 5,
     "metadata": {},
     "output_type": "execute_result"
    }
   ],
   "source": [
    "len(event_data)"
   ]
  },
  {
   "cell_type": "markdown",
   "id": "3e5fa5d5-2ea1-4464-a1a4-89d4d38e2622",
   "metadata": {},
   "source": [
    "#### Now we are ready to work with the CSV file titled <font color=red>event_datafile_new.csv</font>\n",
    "##### The **``event_datafile_new.csv``** contains the following columns: \n",
    "- artist \n",
    "- firstName of user\n",
    "- gender of user\n",
    "- item number in session\n",
    "- last name of user\n",
    "- length of the song\n",
    "- level (paid or free song)\n",
    "- location of the user\n",
    "- sessionId\n",
    "- song title\n",
    "- userId\n",
    "\n",
    "The image below is a screenshot of what the denormalized data should appear like in the <font color=red>**event_datafile_new.csv**</font> after the code above is run:<br>\n",
    "\n",
    "<img src=\"images/1.jpg\">"
   ]
  },
  {
   "cell_type": "code",
   "execution_count": null,
   "id": "1955375e-5222-4a53-be9c-3f77fc008a04",
   "metadata": {},
   "outputs": [],
   "source": []
  }
 ],
 "metadata": {
  "kernelspec": {
   "display_name": "Python 3 (ipykernel)",
   "language": "python",
   "name": "python3"
  },
  "language_info": {
   "codemirror_mode": {
    "name": "ipython",
    "version": 3
   },
   "file_extension": ".py",
   "mimetype": "text/x-python",
   "name": "python",
   "nbconvert_exporter": "python",
   "pygments_lexer": "ipython3",
   "version": "3.11.7"
  }
 },
 "nbformat": 4,
 "nbformat_minor": 5
}
